{
 "cells": [
  {
   "cell_type": "code",
   "execution_count": 424,
   "metadata": {},
   "outputs": [],
   "source": [
    "import pandas\n",
    "import numpy as np\n",
    "import matplotlib.pyplot as plt\n",
    "from matplotlib import rc\n",
    "import json "
   ]
  },
  {
   "cell_type": "code",
   "execution_count": 197,
   "metadata": {},
   "outputs": [],
   "source": [
    "colnames = ['row_num', 'geo_id', 'geo_id2', 'geo_display_label', 'NAICS_id', 'NAICS_display_label', 'RCPSZFE_id', 'RCPSZFE_display_label', 'year', 'estab']\n",
    "data = pandas.read_csv('data1.csv', names=colnames)"
   ]
  },
  {
   "cell_type": "code",
   "execution_count": 376,
   "metadata": {},
   "outputs": [],
   "source": [
    "#extract data from csv file in columns\n",
    "naics = data.NAICS_id.tolist()[1:]\n",
    "geo_display_labels = data.geo_display_label.tolist()[1:]\n",
    "rcpszfe_id = data.RCPSZFE_id.tolist()\n",
    "rcpszfe_id = [int(i) for i in rcpszfe_id[1:]]\n",
    "rcpszfe_display = data.RCPSZFE_display_label.tolist()[1:]\n",
    "estab = data.estab.tolist()\n",
    "estab = [int(i) for i in estab[1:]]\n",
    "geo_id = data.geo_id.tolist()[1:]\n",
    "geo_id2 = data.geo_id2.tolist()[1:]\n"
   ]
  },
  {
   "cell_type": "code",
   "execution_count": 415,
   "metadata": {},
   "outputs": [],
   "source": [
    "industry_codes = ['444', '447', '453', '448', '441', '443', '452', '442', '446', '451', '454', '445']\n",
    "#these are the industries we're interested in"
   ]
  },
  {
   "cell_type": "code",
   "execution_count": 420,
   "metadata": {},
   "outputs": [],
   "source": [
    "def get_revenue_distribution(naics, rcpszfe_id, estab):\n",
    "    revenue_types = {}\n",
    "    #collect the accumulative revenue range for each industry\n",
    "    for department in industry_codes:\n",
    "        current = []\n",
    "        idx_1 = [index for index in range(len(naics)) if naics[index] == department and rcpszfe_id[index] == 1]\n",
    "        idx_2 = [index for index in range(len(naics)) if naics[index] == department and rcpszfe_id[index] == 2]\n",
    "        idx_998 = [index for index in range(len(naics)) if naics[index] == department and rcpszfe_id[index] == 998]\n",
    "        idx_123 = [index for index in range(len(naics)) if naics[index] == department and rcpszfe_id[index] == 123]\n",
    "        idx_125 = [index for index in range(len(naics)) if naics[index] == department and rcpszfe_id[index] == 125]\n",
    "        idx_131 = [index for index in range(len(naics)) if naics[index] == department and rcpszfe_id[index] == 131]\n",
    "        idx_132 = [index for index in range(len(naics)) if naics[index] == department and rcpszfe_id[index] == 132]\n",
    "        current.append(sum([int(estab[i]) for i in idx_1]))\n",
    "        current.append(sum([int(estab[i]) for i in idx_2]))\n",
    "        current.append(sum([int(estab[i]) for i in idx_998]))\n",
    "        current.append(sum([int(estab[i]) for i in idx_123]))\n",
    "        current.append(sum([int(estab[i]) for i in idx_125]))\n",
    "        current.append(sum([int(estab[i]) for i in idx_131]))\n",
    "        current.append(sum([int(estab[i]) for i in idx_132]))\n",
    "        revenue_types[department] = current\n",
    "    return revenue_types"
   ]
  },
  {
   "cell_type": "code",
   "execution_count": 417,
   "metadata": {},
   "outputs": [
    {
     "name": "stdout",
     "output_type": "stream",
     "text": [
      "{'444': [74837, 68519, 6320, 5218, 8868, 14049, 38515], '447': [109958, 98566, 11398, 1981, 4051, 8132, 83640], '453': [102457, 86380, 16084, 18635, 19445, 17495, 21377], '448': [143128, 128150, 14993, 12657, 21228, 33028, 55223], '441': [111529, 100802, 10738, 6179, 9900, 17421, 64926], '443': [46996, 40714, 6285, 6188, 7846, 10040, 14364], '452': [47262, 43911, 3354, 1819, 1837, 4768, 34748], '442': [49728, 43930, 5800, 4992, 7104, 10134, 19735], '446': [88126, 80701, 7432, 6752, 11953, 13319, 46318], '451': [44421, 38761, 5662, 6182, 7145, 7986, 14868], '454': [61276, 49795, 11487, 7541, 8095, 8533, 20550], '445': [142934, 121091, 21853, 12688, 20942, 25069, 58684]}\n"
     ]
    }
   ],
   "source": [
    "rcpszfe_types = ['001', '002', '998', '123', '125', '131', '132']\n",
    "national_revenue_types = get_revenue_distribution(naics, rcpszfe_id, estab)\n",
    "print(national_revenue_types)"
   ]
  },
  {
   "cell_type": "code",
   "execution_count": 378,
   "metadata": {},
   "outputs": [],
   "source": [
    "states = [row.split(',')[1].replace(')', '').replace(' ', '') for row in geo_display_labels]\n",
    "#get starting index of each state\n",
    "states_idx = [0]\n",
    "#keep track of state order\n",
    "states_match = {}\n",
    "states_match[0] = 'CT'\n",
    "states_match_idx = {}\n",
    "states_match_idx['CT'] = 0\n",
    "count = 1\n",
    "for i in range(1, len(states)):\n",
    "    if states[i] != states[i-1]:\n",
    "        states_idx.append(i+1)\n",
    "        states_match[count] = states[i]\n",
    "        states_match_idx[states[i]] = count\n",
    "        count += 1"
   ]
  },
  {
   "cell_type": "code",
   "execution_count": 422,
   "metadata": {
    "scrolled": false
   },
   "outputs": [],
   "source": [
    "rcpszfe_types = ['001', '002', '998', '123', '125', '131', '132']\n",
    "sum_revenue_types_by_state = {}\n",
    "#collect the accumulative revenue range for each industry at every state\n",
    "for idx in range(len(states_idx)):\n",
    "    sum_revenue_types = {}\n",
    "    cur_state = states[states_idx[idx]]\n",
    "    begin = states_idx[idx]\n",
    "    if idx == len(states_idx)-1:\n",
    "        end = len(naics)\n",
    "    else:\n",
    "        end = states_idx[idx+1]\n",
    "    cur_naics = naics[begin:end]\n",
    "    cur_rcpszfe_id = rcpszfe_id[begin:end]\n",
    "    cur_estab = estab[begin:end]\n",
    "    \n",
    "    sum_revenue_types_by_state[cur_state] = get_revenue_distribution(cur_naics, cur_rcpszfe_id, cur_estab)"
   ]
  },
  {
   "cell_type": "code",
   "execution_count": 423,
   "metadata": {},
   "outputs": [],
   "source": [
    "json.dump(sum_revenue_types_by_state, open('12_by_states.json','w'))\n",
    "#save the state revenue dictionary"
   ]
  },
  {
   "cell_type": "code",
   "execution_count": 218,
   "metadata": {
    "scrolled": true
   },
   "outputs": [
    {
     "data": {
      "image/png": "[encoded data removed]",
      "text/plain": [
       "<Figure size 1440x720 with 2 Axes>"
      ]
     },
     "metadata": {
      "needs_background": "light"
     },
     "output_type": "display_data"
    }
   ],
   "source": [
    "#plot some bar graphs\n",
    "r = list(range(12))\n",
    "red = []\n",
    "yellow = []\n",
    "green = []\n",
    "blue = []\n",
    "black = []\n",
    "ct_result = sum_revenue_types\n",
    "for key, value in ct_result.items():\n",
    "    red.append(value[6])\n",
    "    yellow.append(value[5])\n",
    "    green.append(value[4])\n",
    "    blue.append(value[3])\n",
    "    black.append(value[2]/value[0])\n",
    "totals = [i+j+k+m for i,j,k,m in zip(red, yellow, green, blue)]\n",
    "#the percentages of each revenue range from the total\n",
    "#red means revenue > 1,000,000\n",
    "#yellow means revenue (500,000 - 1,000,000)\n",
    "#green means revenue (250,000 - 500,000)\n",
    "#blue means revenue (100,000 - 250,000)\n",
    "red = [i / j * 100 for i,j in zip(red, totals)]\n",
    "yellow = [i / j * 100 for i,j in zip(yellow, totals)]\n",
    "green = [i / j * 100 for i,j in zip(green, totals)]\n",
    "blue = [i / j * 100 for i,j in zip(blue, totals)]\n",
    "\n",
    "# plot\n",
    "barWidth = 0.85\n",
    "names = ('A','B','C','D','E')\n",
    "plt.figure(figsize=(20,10))\n",
    "plt.subplot(1,2,1)\n",
    "plt.title('revenue')\n",
    "plt.bar(r, blue, color='b', edgecolor='white', width=barWidth)\n",
    "plt.bar(r, green, bottom=blue, color='g', edgecolor='white', width=barWidth)\n",
    "plt.bar(r, yellow, bottom=[i+j for i,j in zip(blue, green)], color='y', edgecolor='white', width=barWidth)\n",
    "plt.bar(r, red, bottom=[i+j+k for i,j,k in zip(blue, green, yellow)], color='r', edgecolor='white', width=barWidth)\n",
    "\n",
    "plt.subplot(1,2,2)\n",
    "plt.title('new establishments')\n",
    "plt.bar(r, black, color='b', edgecolor='white', width=barWidth)\n",
    "plt.savefig('national.png')"
   ]
  },
  {
   "cell_type": "code",
   "execution_count": null,
   "metadata": {},
   "outputs": [],
   "source": [
    "#get the national revenue distribution in terms of percentages\n",
    "r = list(range(12))\n",
    "high = []\n",
    "med = []\n",
    "low = []\n",
    "very_low = []\n",
    "national_new_estab = []\n",
    "for key, value in national_revenue_types.items():\n",
    "    high.append(value[6])\n",
    "    med.append(value[5])\n",
    "    low.append(value[4])\n",
    "    very_low.append(value[3])\n",
    "    national_new_estab.append(value[2]/value[0])\n",
    "totals = [i+j+k+m for i,j,k,m in zip(high, med, low, very_low)]\n",
    "national_high_pct = np.array([i / j * 100 for i,j in zip(high, totals)])\n",
    "print('national percentage of high revenue establishments for each industry')\n",
    "print(national_high_pct)\n",
    "national_new_estab = np.array(national_new_estab)\n",
    "print('national percentage of new establishments for each industry')\n",
    "print(national_new_estab)"
   ]
  },
  {
   "cell_type": "code",
   "execution_count": 263,
   "metadata": {},
   "outputs": [],
   "source": [
    "#and now do the same for the states, and compare\n",
    "#the states that have industries with a higher percentage revenue\n",
    "#compared to the nation, is prioritized\n",
    "#so as the ones who have new establishments\n",
    "leading_rev_by_state = {}\n",
    "best_state_industries = {}\n",
    "total_leading_rev_by_state = []\n",
    "total_best_state_industries = []\n",
    "r = list(range(12))\n",
    "for state, sum_revenue_types in sum_revenue_types_by_state.items():\n",
    "    high = []\n",
    "    med = []\n",
    "    low = []\n",
    "    very_low = []\n",
    "    new_estab = []\n",
    "    for key, value in sum_revenue_types.items():\n",
    "        high.append(value[6])\n",
    "        med.append(value[5])\n",
    "        low.append(value[4])\n",
    "        very_low.append(value[3])\n",
    "        new_estab.append(value[2]/value[0])\n",
    "    totals = [i+j+k+m for i,j,k,m in zip(high, med, low, very_low)]\n",
    "    high_pct = np.array([i / j * 100 for i,j in zip(high, totals)])\n",
    "    better_pct =  [i-j if i > j else 0 for i,j in zip(high_pct, national_high_pct)]\n",
    "    better_new =  [i-j if i > j else 0 for i,j in zip(new_estab, national_new_estab)]\n",
    "    leading_rev_by_state[state] = better_pct\n",
    "    best_state_industries[state] = better_new\n",
    "    total_leading_rev_by_state += better_pct\n",
    "    total_best_state_industries += better_new\n",
    "    "
   ]
  },
  {
   "cell_type": "code",
   "execution_count": null,
   "metadata": {},
   "outputs": [],
   "source": [
    "total_leading_startup_by_state = np.array(total_best_state_industries)\n",
    "print(len(total_leading_startup_by_state))\n",
    "print(total_leading_startup_by_state[revenue_rank])"
   ]
  },
  {
   "cell_type": "code",
   "execution_count": null,
   "metadata": {},
   "outputs": [],
   "source": [
    "total_leading_rev_by_state = np.array(total_leading_rev_by_state)\n",
    "total_leading_startup_by_state = np.array(total_best_state_industries)\n",
    "revenue_rank = total_leading_rev_by_state.argsort()[::-1]\n",
    "revenue_rank_by_state = [states_match[i//12] for i in revenue_rank]\n",
    "revenue_rank_by_industry = [industry_codes[i%12] for i in revenue_rank]\n",
    "final_revenue_rank = list(zip(revenue_rank_by_state, revenue_rank_by_industry, total_leading_rev_by_state[revenue_rank], total_leading_startup_by_state[revenue_rank]))\n",
    "print(final_revenue_rank)"
   ]
  },
  {
   "cell_type": "code",
   "execution_count": 407,
   "metadata": {},
   "outputs": [],
   "source": [
    "def write_csv(filename, arr):\n",
    "    with open(filename, 'w') as f:\n",
    "        for i in arr:\n",
    "            s = ','.join(map(str, i))\n",
    "            f.write(s)\n",
    "            f.write('\\n')"
   ]
  },
  {
   "cell_type": "code",
   "execution_count": 426,
   "metadata": {},
   "outputs": [],
   "source": [
    "chosen_states = ['AL', 'AK', 'DC', 'SD', 'VT', 'DE', 'UT', 'NV', 'ME', 'WY']\n",
    "chosen_industries = ['445', '441', '443', '442', '445', '452', '443', '441', '445', '447']\n",
    "#the 10 highest rated states-industry pairings we found\n",
    "#process them again as we did before\n",
    "for idx in range(10):\n",
    "    begin = states_idx[states_match_idx[chosen_states[idx]]]\n",
    "    end = states_idx[states_match_idx[chosen_states[idx]] + 1]\n",
    "    zipcodes = geo_id2[begin:end]\n",
    "    state_naics = naics[begin:end]\n",
    "    state_rcpszfe_id = rcpszfe_id[begin:end]\n",
    "    state_estab = estab[begin:end]\n",
    "    state_geo_id = geo_id[begin:end]\n",
    "    #print(zipcodes)\n",
    "    zip_idx = [0]\n",
    "\n",
    "    for i in range(1, len(zipcodes)):\n",
    "        if zipcodes[i] != zipcodes[i-1]:\n",
    "            zip_idx.append(i+1)\n",
    "    sum_revenue_types_by_zip = get_revenue_type(state_naics, state_rcpszfe_id, state_estab, zip_idx, zipcodes, chosen_industries[idx])\n",
    "    sum_revenue_types_by_zip = sorted(sum_revenue_types_by_zip, key=lambda element: (element[2], element[6]), reverse = True)\n",
    "    result = np.array(sum_revenue_types_by_zip[:10])\n",
    "    state_result = [(chosen_states[idx],chosen_industries[idx],i,j,k) for i,j,k in zip(result[:,2], result[:,6], result[:,7])]\n",
    "    filename = chosen_states[idx] + chosen_industries[idx] + '_new' + '.csv'\n",
    "    write_csv(filename, state_result)"
   ]
  },
  {
   "cell_type": "code",
   "execution_count": 425,
   "metadata": {},
   "outputs": [],
   "source": [
    "def get_revenue_type(naics, rcpszfe_id, estab, states_idx, states, department):\n",
    "    rcpszfe_types = ['001', '002', '998', '123', '125', '131', '132']\n",
    "    sum_revenue_types_by_state = []\n",
    "    for idx in range(len(states_idx)-1):\n",
    "        cur_state = states[states_idx[idx]]\n",
    "        begin = states_idx[idx]\n",
    "        if idx == len(states_idx)-1:\n",
    "            end = len(naics)\n",
    "        else:\n",
    "            end = states_idx[idx+1]\n",
    "        current = []\n",
    "        idx_1 = [index for index in range(len(naics)) if naics[index] == department and rcpszfe_id[index] == 1 and index >= begin and index < end]\n",
    "        idx_2 = [index for index in range(len(naics)) if naics[index] == department and rcpszfe_id[index] == 2 and index >= begin and index < end]\n",
    "        idx_998 = [index for index in range(len(naics)) if naics[index] == department and rcpszfe_id[index] == 998 and index >= begin and index < end]\n",
    "        idx_123 = [index for index in range(len(naics)) if naics[index] == department and rcpszfe_id[index] == 123 and index >= begin and index < end]\n",
    "        idx_125 = [index for index in range(len(naics)) if naics[index] == department and rcpszfe_id[index] == 125 and index >= begin and index < end]\n",
    "        idx_131 = [index for index in range(len(naics)) if naics[index] == department and rcpszfe_id[index] == 131 and index >= begin and index < end]\n",
    "        idx_132 = [index for index in range(len(naics)) if naics[index] == department and rcpszfe_id[index] == 132 and index >= begin and index < end]\n",
    "        current.append(sum([int(estab[i]) for i in idx_1]))\n",
    "        current.append(sum([int(estab[i]) for i in idx_2]))\n",
    "        current.append(sum([int(estab[i]) for i in idx_998]))\n",
    "        current.append(sum([int(estab[i]) for i in idx_123]))\n",
    "        current.append(sum([int(estab[i]) for i in idx_125]))\n",
    "        current.append(sum([int(estab[i]) for i in idx_131]))\n",
    "        current.append(sum([int(estab[i]) for i in idx_132]))\n",
    "        current.append(cur_state)\n",
    "        sum_revenue_types_by_state.append(current)\n",
    "    return sum_revenue_types_by_state"
   ]
  },
  {
   "cell_type": "code",
   "execution_count": 411,
   "metadata": {},
   "outputs": [],
   "source": [
    "#help clean up data for the city population data\n",
    "colnames = ['geo_id', 'geo_id2', 'geo_display_label', 'gc_id', 'gc', 'RCPSZFE_id', 'label', 'year', 'number']\n",
    "population = pandas.read_csv('population.csv', names=colnames)"
   ]
  },
  {
   "cell_type": "code",
   "execution_count": null,
   "metadata": {},
   "outputs": [],
   "source": [
    "city = population.label.tolist()[2:] \n",
    "pop = population.number.tolist()[2:]\n",
    "city = [i.replace('United States - ', '').split(',')[0].replace(' city','').replace('(balance)','') for i in city]\n",
    "file = [(i,j) for i,j in zip(city, pop)]\n",
    "print(file[:10])\n",
    "write_csv('city.csv', file)"
   ]
  },
  {
   "cell_type": "code",
   "execution_count": null,
   "metadata": {},
   "outputs": [],
   "source": []
  }
 ],
 "metadata": {
  "kernelspec": {
   "display_name": "Python 3",
   "language": "python",
   "name": "python3"
  },
  "language_info": {
   "codemirror_mode": {
    "name": "ipython",
    "version": 3
   },
   "file_extension": ".py",
   "mimetype": "text/x-python",
   "name": "python",
   "nbconvert_exporter": "python",
   "pygments_lexer": "ipython3",
   "version": "3.7.3"
  }
 },
 "nbformat": 4,
 "nbformat_minor": 2
}
